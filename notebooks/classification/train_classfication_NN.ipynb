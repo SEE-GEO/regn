{
 "cells": [
  {
   "cell_type": "markdown",
   "metadata": {},
   "source": [
    "# QRNN Classification\n",
    "\n",
    "This notebook uses the QRNN trained on GPM surface precipitation to classify raining and non-raining pixels."
   ]
  },
  {
   "cell_type": "code",
   "execution_count": 1,
   "metadata": {},
   "outputs": [],
   "source": [
    "%load_ext autoreload\n",
    "%autoreload 2\n",
    "%matplotlib inline\n",
    "import ipywidgets as w\n",
    "import matplotlib.pyplot as plt\n",
    "import numpy as np\n",
    "import os"
   ]
  },
  {
   "cell_type": "markdown",
   "metadata": {},
   "source": [
    "## "
   ]
  },
  {
   "cell_type": "code",
   "execution_count": 47,
   "metadata": {},
   "outputs": [],
   "source": [
    "from torch.utils.data import DataLoader\n",
    "from regn.data import GprofData\n",
    "rain_threshold = 0.1\n",
    "path = os.path.expanduser(\"~/Dendrite/Projects/REGN/data/gprof_gmi\")\n",
    "training_data = GprofData(os.path.join(path, \"training_data_small.nc\"),\n",
    "                          batch_size = 64,\n",
    "                          rain_threshold = rain_threshold)\n",
    "data.store_normalization_data(os.path.join(path, \"normalization_data.nc\"))\n",
    "validation_data = GprofData(os.path.expanduser(\"~/Dendrite/Projects/REGN/data/gprof_gmi/validation_data_small.nc\"),\n",
    "                            normalization_data=os.path.join(path, \"normalization_data.nc\"),\n",
    "                            batch_size = 64,\n",
    "                            rain_threshold = rain_threshold)"
   ]
  },
  {
   "cell_type": "markdown",
   "metadata": {},
   "source": [
    "## Defining the model\n",
    "\n",
    "Since output probabilities for the two classes must sum to 1, a single output is sufficient for binary classification. Another trick we apply here is to combine the output activation function (Sigmoid) with the loss function. The reason for this is that it avoids numerical problems during training. We must only keep in mind that we need to explicitly apply the Sigmoid function during evaluation to get valid probabilities."
   ]
  },
  {
   "cell_type": "code",
   "execution_count": 55,
   "metadata": {},
   "outputs": [],
   "source": [
    "import torch\n",
    "from torch import nn\n",
    "hidden_width = 128\n",
    "model = nn.Sequential(\n",
    "    nn.Linear(training_data.input_features, hidden_width),\n",
    "    nn.ReLU(),\n",
    "    nn.Linear(hidden_width, hidden_width),\n",
    "    nn.ReLU(),\n",
    "    nn.Linear(hidden_width, hidden_width),\n",
    "    nn.ReLU(),\n",
    "    nn.Linear(hidden_width, hidden_width),\n",
    "    nn.ReLU(),\n",
    "    nn.Linear(hidden_width, hidden_width),\n",
    "    nn.ReLU(),\n",
    "    nn.Linear(hidden_width, hidden_width),\n",
    "    nn.ReLU(),\n",
    "    nn.Linear(hidden_width, 1)\n",
    ")"
   ]
  },
  {
   "cell_type": "code",
   "execution_count": 56,
   "metadata": {},
   "outputs": [],
   "source": [
    "import torch.optim\n",
    "from torch.optim import SGD, lr_scheduler\n",
    "criterion = nn.BCEWithLogitsLoss() # This is the loss that combines Sigmoid with binary cross entropy.\n",
    "optimizer = SGD(model.parameters(), lr=0.1)\n",
    "scheduler = lr_scheduler.ReduceLROnPlateau(optimizer, factor=0.5, patience=3, verbose=True)"
   ]
  },
  {
   "cell_type": "code",
   "execution_count": 58,
   "metadata": {},
   "outputs": [],
   "source": [
    "def train_epoch(model,\n",
    "                training_data,\n",
    "                validation_data,\n",
    "                optimizer,\n",
    "                scheduler,\n",
    "                device=torch.device(\"cpu\")):\n",
    "    model = model.to(device)\n",
    "    \n",
    "    training_loss = 0\n",
    "    validation_loss = 0\n",
    "    n = 0\n",
    "    \n",
    "    for i, (x, y) in enumerate(training_data):\n",
    "        \n",
    "        optimizer.zero_grad()\n",
    "        \n",
    "        x = x.to(device)\n",
    "        y = y.to(device).view(-1, 1)\n",
    "        \n",
    "        y_pred = model(x)\n",
    "        loss = criterion(y_pred, y)\n",
    "        loss.backward()\n",
    "        \n",
    "        optimizer.step()\n",
    "        \n",
    "        training_loss += loss.item() * x.size()[0]\n",
    "        n += x.size()[0]\n",
    "        training_loss_avg = training_loss / n\n",
    "        print(f\"Batch {i} / {len(training_data)}: Training loss = {training_loss_avg:.3f}\", end=\"\\r\")\n",
    "        \n",
    "    n = 0\n",
    "    for i, (x, y) in enumerate(validation_data):\n",
    "        x = x.detach().to(device)\n",
    "        y = y.detach().to(device).view(-1, 1)\n",
    "        \n",
    "        y_pred = model(x)\n",
    "        loss = criterion(y_pred, y)\n",
    "        validation_loss += loss.item() * x.size()[0]\n",
    "        n += x.size()[0]\n",
    "        \n",
    "    validation_loss_avg = validation_loss / n\n",
    "    scheduler.step(validation_loss_avg)\n",
    "    model.to(torch.device(\"cpu\"))\n",
    "    return training_loss_avg, validation_loss_avg"
   ]
  },
  {
   "cell_type": "code",
   "execution_count": 59,
   "metadata": {},
   "outputs": [
    {
     "name": "stdout",
     "output_type": "stream",
     "text": [
      "Epoch 374: Training loss = 0.178, Validation loss = 0.147\n",
      "Epoch 374: Training loss = 0.141, Validation loss = 0.149\n",
      "Epoch 374: Training loss = 0.136, Validation loss = 0.142\n",
      "Epoch 374: Training loss = 0.134, Validation loss = 0.155\n",
      "Epoch 374: Training loss = 0.132, Validation loss = 0.139\n",
      "Epoch 374: Training loss = 0.130, Validation loss = 0.136\n",
      "Epoch 374: Training loss = 0.128, Validation loss = 0.142\n",
      "Epoch 374: Training loss = 0.127, Validation loss = 0.142\n",
      "Epoch 374: Training loss = 0.126, Validation loss = 0.135\n",
      "Epoch 374: Training loss = 0.125, Validation loss = 0.145\n",
      "Epoch 374: Training loss = 0.124, Validation loss = 0.134\n",
      "Epoch 374: Training loss = 0.123, Validation loss = 0.135\n",
      "Epoch 374: Training loss = 0.123, Validation loss = 0.136\n",
      "Epoch 374: Training loss = 0.122, Validation loss = 0.133\n",
      "Epoch 374: Training loss = 0.121, Validation loss = 0.138\n",
      "Epoch 374: Training loss = 0.120, Validation loss = 0.150\n",
      "Epoch 374: Training loss = 0.120, Validation loss = 0.136\n",
      "Epoch 374: Training loss = 0.119, Validation loss = 0.128\n",
      "Epoch 374: Training loss = 0.118, Validation loss = 0.126\n",
      "Epoch 374: Training loss = 0.118, Validation loss = 0.131\n",
      "Epoch 374: Training loss = 0.117, Validation loss = 0.126\n",
      "Epoch 374: Training loss = 0.117, Validation loss = 0.137\n",
      "Epoch 374: Training loss = 0.116, Validation loss = 0.136\n",
      "Epoch 374: Training loss = 0.116, Validation loss = 0.127\n",
      "Epoch    25: reducing learning rate of group 0 to 5.0000e-02.\n",
      "Epoch 374: Training loss = 0.115, Validation loss = 0.135\n",
      "Epoch 374: Training loss = 0.112, Validation loss = 0.121\n",
      "Epoch 374: Training loss = 0.111, Validation loss = 0.123\n",
      "Epoch 374: Training loss = 0.111, Validation loss = 0.119\n",
      "Epoch 374: Training loss = 0.110, Validation loss = 0.127\n",
      "Epoch 374: Training loss = 0.110, Validation loss = 0.120\n",
      "Epoch 374: Training loss = 0.110, Validation loss = 0.121\n",
      "Epoch    32: reducing learning rate of group 0 to 2.5000e-02.\n",
      "Epoch 374: Training loss = 0.110, Validation loss = 0.121\n",
      "Epoch 374: Training loss = 0.107, Validation loss = 0.120\n",
      "Epoch 374: Training loss = 0.107, Validation loss = 0.116\n",
      "Epoch 374: Training loss = 0.107, Validation loss = 0.117\n",
      "Epoch 374: Training loss = 0.107, Validation loss = 0.118\n",
      "Epoch 374: Training loss = 0.106, Validation loss = 0.118\n",
      "Epoch    38: reducing learning rate of group 0 to 1.2500e-02.\n",
      "Epoch 374: Training loss = 0.106, Validation loss = 0.120\n",
      "Epoch 374: Training loss = 0.105, Validation loss = 0.116\n",
      "Epoch 374: Training loss = 0.104, Validation loss = 0.115\n",
      "Epoch 374: Training loss = 0.104, Validation loss = 0.116\n",
      "Epoch 374: Training loss = 0.104, Validation loss = 0.116\n",
      "Epoch 374: Training loss = 0.104, Validation loss = 0.115\n",
      "Epoch 374: Training loss = 0.104, Validation loss = 0.118\n",
      "Epoch 374: Training loss = 0.104, Validation loss = 0.116\n",
      "Epoch 374: Training loss = 0.104, Validation loss = 0.115\n",
      "Epoch 374: Training loss = 0.104, Validation loss = 0.115\n",
      "Epoch 374: Training loss = 0.103, Validation loss = 0.115\n",
      "Epoch 374: Training loss = 0.103, Validation loss = 0.115\n",
      "Epoch 374: Training loss = 0.103, Validation loss = 0.114\n",
      "Epoch 374: Training loss = 0.103, Validation loss = 0.116\n",
      "Epoch 374: Training loss = 0.103, Validation loss = 0.114\n",
      "Epoch 374: Training loss = 0.103, Validation loss = 0.116\n",
      "Epoch 374: Training loss = 0.103, Validation loss = 0.117\n",
      "Epoch 374: Training loss = 0.103, Validation loss = 0.114\n",
      "Epoch    56: reducing learning rate of group 0 to 6.2500e-03.\n",
      "Epoch 374: Training loss = 0.103, Validation loss = 0.116\n",
      "Epoch 374: Training loss = 0.101, Validation loss = 0.114\n",
      "Epoch 374: Training loss = 0.101, Validation loss = 0.114\n",
      "Epoch 374: Training loss = 0.101, Validation loss = 0.114\n",
      "Epoch 374: Training loss = 0.101, Validation loss = 0.114\n",
      "Epoch 374: Training loss = 0.101, Validation loss = 0.114\n",
      "Epoch    62: reducing learning rate of group 0 to 3.1250e-03.\n",
      "Epoch 374: Training loss = 0.101, Validation loss = 0.114\n",
      "Epoch 374: Training loss = 0.100, Validation loss = 0.113\n",
      "Epoch 374: Training loss = 0.100, Validation loss = 0.113\n",
      "Epoch 374: Training loss = 0.100, Validation loss = 0.114\n",
      "Epoch 374: Training loss = 0.100, Validation loss = 0.113\n",
      "Epoch    67: reducing learning rate of group 0 to 1.5625e-03.\n",
      "Epoch 374: Training loss = 0.100, Validation loss = 0.113\n",
      "Epoch 374: Training loss = 0.099, Validation loss = 0.113\n",
      "Epoch 374: Training loss = 0.099, Validation loss = 0.113\n",
      "Epoch 374: Training loss = 0.099, Validation loss = 0.113\n",
      "Epoch    71: reducing learning rate of group 0 to 7.8125e-04.\n",
      "Epoch 374: Training loss = 0.099, Validation loss = 0.113\n",
      "Epoch 374: Training loss = 0.099, Validation loss = 0.113\n",
      "Epoch 374: Training loss = 0.099, Validation loss = 0.113\n",
      "Epoch 374: Training loss = 0.099, Validation loss = 0.113\n",
      "Epoch    75: reducing learning rate of group 0 to 3.9063e-04.\n",
      "Epoch 374: Training loss = 0.099, Validation loss = 0.113\n",
      "Epoch 374: Training loss = 0.099, Validation loss = 0.113\n",
      "Epoch 374: Training loss = 0.099, Validation loss = 0.113\n",
      "Epoch 374: Training loss = 0.099, Validation loss = 0.113\n",
      "Epoch    79: reducing learning rate of group 0 to 1.9531e-04.\n",
      "Epoch 374: Training loss = 0.099, Validation loss = 0.113\n",
      "Epoch 374: Training loss = 0.099, Validation loss = 0.113\n",
      "Epoch 374: Training loss = 0.099, Validation loss = 0.113\n",
      "Epoch 374: Training loss = 0.099, Validation loss = 0.113\n",
      "Epoch    83: reducing learning rate of group 0 to 9.7656e-05.\n",
      "Epoch 374: Training loss = 0.099, Validation loss = 0.113\n",
      "Epoch 374: Training loss = 0.099, Validation loss = 0.113\n",
      "Epoch 374: Training loss = 0.099, Validation loss = 0.113\n",
      "Epoch 374: Training loss = 0.099, Validation loss = 0.113\n",
      "Epoch    87: reducing learning rate of group 0 to 4.8828e-05.\n",
      "Epoch 374: Training loss = 0.099, Validation loss = 0.113\n",
      "Epoch 374: Training loss = 0.099, Validation loss = 0.113\n",
      "Epoch 374: Training loss = 0.099, Validation loss = 0.113\n",
      "Epoch 374: Training loss = 0.099, Validation loss = 0.113\n",
      "Epoch    91: reducing learning rate of group 0 to 2.4414e-05.\n",
      "Epoch 374: Training loss = 0.099, Validation loss = 0.113\n",
      "Epoch 374: Training loss = 0.099, Validation loss = 0.113\n",
      "Epoch 374: Training loss = 0.099, Validation loss = 0.113\n",
      "Epoch 374: Training loss = 0.099, Validation loss = 0.113\n",
      "Epoch    95: reducing learning rate of group 0 to 1.2207e-05.\n",
      "Epoch 374: Training loss = 0.099, Validation loss = 0.113\n",
      "Epoch 374: Training loss = 0.099, Validation loss = 0.113\n",
      "Epoch 374: Training loss = 0.099, Validation loss = 0.113\n",
      "Epoch 374: Training loss = 0.099, Validation loss = 0.113\n",
      "Epoch    99: reducing learning rate of group 0 to 6.1035e-06.\n",
      "Epoch 374: Training loss = 0.099, Validation loss = 0.113\n",
      "Epoch 374: Training loss = 0.099, Validation loss = 0.113\n"
     ]
    }
   ],
   "source": [
    "training_errors = []\n",
    "validation_errors = []\n",
    "for i in range(100):\n",
    "    te, ve = train_epoch(model, training_data, validation_data, optimizer, scheduler)\n",
    "    print(f\"Epoch {i}: Training loss = {te:.3f}, Validation loss = {ve:.3f}\", end=\"\\n\")\n",
    "    training_errors.append(te)\n",
    "    validation_errors.append(ve)"
   ]
  },
  {
   "cell_type": "code",
   "execution_count": 62,
   "metadata": {},
   "outputs": [
    {
     "data": {
      "text/plain": [
       "Text(0, 0.5, 'Loss')"
      ]
     },
     "execution_count": 62,
     "metadata": {},
     "output_type": "execute_result"
    },
    {
     "data": {
      "image/png": "[encoded data removed]",
      "text/plain": [
       "<Figure size 432x288 with 1 Axes>"
      ]
     },
     "metadata": {
      "needs_background": "light"
     },
     "output_type": "display_data"
    }
   ],
   "source": [
    "plt.plot(training_errors, label=\"Training\")\n",
    "plt.plot(validation_errors, label=\"Validation\")\n",
    "plt.legend()\n",
    "plt.xlabel(\"Epochs\")\n",
    "plt.ylabel(\"Loss\")"
   ]
  },
  {
   "cell_type": "code",
   "execution_count": 64,
   "metadata": {},
   "outputs": [],
   "source": [
    "torch.save(model, \"nn_6_128.pt\")"
   ]
  },
  {
   "cell_type": "markdown",
   "metadata": {},
   "source": [
    "## Evaluation"
   ]
  },
  {
   "cell_type": "code",
   "execution_count": 91,
   "metadata": {},
   "outputs": [
    {
     "name": "stdout",
     "output_type": "stream",
     "text": [
      "Accuracy of the network: 95 %\n",
      "Accuracy of the predicting rain: 67 %\n"
     ]
    }
   ],
   "source": [
    "correct = 0\n",
    "correct_rain = 0\n",
    "total = 0\n",
    "total_rain = 0\n",
    "for i, d in enumerate(validation_data):\n",
    "    \n",
    "        inputs, labels = d\n",
    "        labels = labels.view(-1, 1)\n",
    "\n",
    "        outputs = torch.sigmoid(model(inputs))\n",
    "        \n",
    "        # find the index with maximum energy\n",
    "        predicted = outputs > 0.5\n",
    "        total += labels.size(0)\n",
    "        correct += (predicted == labels).sum().item()\n",
    "\n",
    "        correct_rain += ((predicted ==1) * (labels == 1)).sum().item()\n",
    "        total_rain += (labels==1).sum().item()\n",
    "print('Accuracy of the network: %d %%' % (\n",
    "    100 * correct / total))  \n",
    "print('Accuracy of the predicting rain: %d %%' % (\n",
    "    100 * correct_rain / total_rain))  "
   ]
  }
 ],
 "metadata": {
  "kernelspec": {
   "display_name": "Python 3",
   "language": "python",
   "name": "python3"
  },
  "language_info": {
   "codemirror_mode": {
    "name": "ipython",
    "version": 3
   },
   "file_extension": ".py",
   "mimetype": "text/x-python",
   "name": "python",
   "nbconvert_exporter": "python",
   "pygments_lexer": "ipython3",
   "version": "3.7.4"
  }
 },
 "nbformat": 4,
 "nbformat_minor": 2
}
