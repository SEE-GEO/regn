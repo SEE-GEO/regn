{
 "cells": [
  {
   "cell_type": "markdown",
   "metadata": {},
   "source": [
    "# QRNN Classification\n",
    "\n",
    "This notebook uses the QRNN trained on GPM surface precipitation to classify raining and non-raining pixels."
   ]
  },
  {
   "cell_type": "code",
   "execution_count": 1,
   "metadata": {},
   "outputs": [],
   "source": [
    "%load_ext autoreload\n",
    "%autoreload 2\n",
    "%matplotlib inline\n",
    "import ipywidgets as w\n",
    "import matplotlib.pyplot as plt\n",
    "import numpy as np\n",
    "import os"
   ]
  },
  {
   "cell_type": "code",
   "execution_count": 2,
   "metadata": {},
   "outputs": [],
   "source": [
    "from torch.utils.data import DataLoader\n",
    "from regn.data import GprofData\n",
    "data = GprofData(os.path.expanduser(\"~/Dendrite/Projects/REGN/data/gprof_gmi/training_data_small.nc\"),\n",
    "                 batch_size = 64)\n",
    "val_data = GprofData(os.path.expanduser(\"~/Dendrite/Projects/REGN/data/gprof_gmi/validation_data_small.nc\"),\n",
    "                 batch_size = 64)\n",
    " "
   ]
  },
  {
   "cell_type": "markdown",
   "metadata": {},
   "source": [
    "### convert RR to labels, threshold 0.1mm/h is used\n"
   ]
  },
  {
   "cell_type": "code",
   "execution_count": 3,
   "metadata": {},
   "outputs": [],
   "source": [
    "data.x = np.float64(data.x)\n",
    "data.y = np.float64(data.y)"
   ]
  },
  {
   "cell_type": "code",
   "execution_count": null,
   "metadata": {},
   "outputs": [],
   "source": []
  },
  {
   "cell_type": "code",
   "execution_count": 4,
   "metadata": {},
   "outputs": [],
   "source": [
    "def add_labels(data):\n",
    "    rain    = data.y > 0.1\n",
    "    no_rain = data.y <= 0.1\n",
    "    data.y[rain] = 1\n",
    "    data.y[no_rain] = 0\n",
    "    return data.y\n"
   ]
  },
  {
   "cell_type": "code",
   "execution_count": 5,
   "metadata": {},
   "outputs": [],
   "source": [
    "data.y = add_labels(data)\n",
    "val_data.y = add_labels(val_data)"
   ]
  },
  {
   "cell_type": "code",
   "execution_count": 6,
   "metadata": {},
   "outputs": [],
   "source": [
    "import torch.nn as nn\n",
    "import torch\n",
    "import torch.optim as optim\n",
    "import torch.nn.functional as F\n",
    "\n",
    "\n",
    "D_in = 28\n",
    "H = 10\n",
    "D_out = 2"
   ]
  },
  {
   "cell_type": "code",
   "execution_count": 7,
   "metadata": {},
   "outputs": [],
   "source": [
    "#class Model(nn.Module):\n",
    "#    def __init__(self):\n",
    "#        super().__init__()\n",
    "#        self.hidden = nn.Linear(D_in, H)\n",
    "#        self.hidden1 = nn.Linear(H, H)\n",
    "#        self.output = nn.Linear(H, D_out)\n",
    "#        self.dropout = nn.Dropout(0.5)\n",
    "  \n",
    "#    def forward(self, x):\n",
    "#        x = self.hidden(x)\n",
    "#        x = torch.sigmoid(x)\n",
    "#        x = self.dropout(x)\n",
    "#        x = self.hidden1(x)\n",
    "#        x = torch.sigmoid(x)        \n",
    "#        x = self.output(x)\n",
    "#        return x\n",
    "#model = Model()    "
   ]
  },
  {
   "cell_type": "code",
   "execution_count": 8,
   "metadata": {},
   "outputs": [],
   "source": [
    "model = nn.Sequential(\n",
    "    nn.Linear(D_in, H),\n",
    "    nn.Linear(H, H),\n",
    "    nn.Sigmoid(),\n",
    "    nn.Linear(H, D_out),\n",
    ")"
   ]
  },
  {
   "cell_type": "code",
   "execution_count": null,
   "metadata": {},
   "outputs": [],
   "source": [
    " "
   ]
  },
  {
   "cell_type": "code",
   "execution_count": 9,
   "metadata": {},
   "outputs": [],
   "source": [
    "criterion = nn.CrossEntropyLoss()\n",
    "optimizer = optim.SGD(model.parameters(), lr=0.01, momentum = 0.9)"
   ]
  },
  {
   "cell_type": "code",
   "execution_count": 10,
   "metadata": {},
   "outputs": [
    {
     "name": "stdout",
     "output_type": "stream",
     "text": [
      "[1,  2000] loss: 0.232\n",
      "[1,  4000] loss: 0.168\n",
      "[2,  2000] loss: 0.163\n",
      "[2,  4000] loss: 0.161\n",
      "[3,  2000] loss: 0.161\n",
      "[3,  4000] loss: 0.159\n",
      "[4,  2000] loss: 0.157\n",
      "[4,  4000] loss: 0.158\n",
      "[5,  2000] loss: 0.156\n",
      "[5,  4000] loss: 0.155\n",
      "[6,  2000] loss: 0.153\n",
      "[6,  4000] loss: 0.154\n",
      "[7,  2000] loss: 0.154\n",
      "[7,  4000] loss: 0.150\n",
      "[8,  2000] loss: 0.150\n",
      "[8,  4000] loss: 0.149\n",
      "[9,  2000] loss: 0.146\n",
      "[9,  4000] loss: 0.147\n",
      "[10,  2000] loss: 0.145\n",
      "[10,  4000] loss: 0.144\n",
      "[11,  2000] loss: 0.140\n",
      "[11,  4000] loss: 0.143\n",
      "[12,  2000] loss: 0.140\n",
      "[12,  4000] loss: 0.140\n",
      "[13,  2000] loss: 0.140\n",
      "[13,  4000] loss: 0.137\n",
      "[14,  2000] loss: 0.136\n",
      "[14,  4000] loss: 0.137\n",
      "[15,  2000] loss: 0.135\n",
      "[15,  4000] loss: 0.135\n",
      "[16,  2000] loss: 0.134\n",
      "[16,  4000] loss: 0.134\n",
      "[17,  2000] loss: 0.134\n",
      "[17,  4000] loss: 0.132\n",
      "[18,  2000] loss: 0.131\n",
      "[18,  4000] loss: 0.133\n",
      "[19,  2000] loss: 0.133\n",
      "[19,  4000] loss: 0.130\n",
      "[20,  2000] loss: 0.133\n",
      "[20,  4000] loss: 0.131\n",
      "[21,  2000] loss: 0.131\n",
      "[21,  4000] loss: 0.131\n",
      "[22,  2000] loss: 0.131\n",
      "[22,  4000] loss: 0.132\n",
      "[23,  2000] loss: 0.132\n",
      "[23,  4000] loss: 0.128\n",
      "[24,  2000] loss: 0.130\n",
      "[24,  4000] loss: 0.130\n",
      "[25,  2000] loss: 0.129\n",
      "[25,  4000] loss: 0.130\n",
      "[26,  2000] loss: 0.130\n",
      "[26,  4000] loss: 0.129\n",
      "[27,  2000] loss: 0.131\n",
      "[27,  4000] loss: 0.127\n",
      "[28,  2000] loss: 0.128\n",
      "[28,  4000] loss: 0.129\n",
      "[29,  2000] loss: 0.129\n",
      "[29,  4000] loss: 0.129\n",
      "[30,  2000] loss: 0.128\n",
      "[30,  4000] loss: 0.129\n",
      "[31,  2000] loss: 0.129\n",
      "[31,  4000] loss: 0.127\n",
      "[32,  2000] loss: 0.129\n",
      "[32,  4000] loss: 0.127\n",
      "[33,  2000] loss: 0.129\n",
      "[33,  4000] loss: 0.127\n",
      "[34,  2000] loss: 0.128\n",
      "[34,  4000] loss: 0.129\n",
      "[35,  2000] loss: 0.127\n",
      "[35,  4000] loss: 0.128\n",
      "[36,  2000] loss: 0.128\n",
      "[36,  4000] loss: 0.126\n",
      "[37,  2000] loss: 0.126\n",
      "[37,  4000] loss: 0.128\n",
      "[38,  2000] loss: 0.126\n",
      "[38,  4000] loss: 0.126\n",
      "[39,  2000] loss: 0.128\n",
      "[39,  4000] loss: 0.125\n",
      "[40,  2000] loss: 0.126\n",
      "[40,  4000] loss: 0.126\n",
      "[41,  2000] loss: 0.129\n",
      "[41,  4000] loss: 0.125\n",
      "[42,  2000] loss: 0.126\n",
      "[42,  4000] loss: 0.129\n",
      "[43,  2000] loss: 0.125\n",
      "[43,  4000] loss: 0.128\n",
      "[44,  2000] loss: 0.127\n",
      "[44,  4000] loss: 0.127\n",
      "[45,  2000] loss: 0.128\n",
      "[45,  4000] loss: 0.126\n",
      "[46,  2000] loss: 0.125\n",
      "[46,  4000] loss: 0.128\n",
      "[47,  2000] loss: 0.125\n",
      "[47,  4000] loss: 0.127\n",
      "[48,  2000] loss: 0.126\n",
      "[48,  4000] loss: 0.126\n",
      "[49,  2000] loss: 0.126\n",
      "[49,  4000] loss: 0.126\n",
      "[50,  2000] loss: 0.125\n",
      "[50,  4000] loss: 0.126\n",
      "Finished Training\n"
     ]
    }
   ],
   "source": [
    "losses = []\n",
    "for epoch in range(50):  # loop over the dataset multiple times\n",
    "\n",
    "    running_loss = 0.0\n",
    "    for i, d in enumerate(data, 0):\n",
    "        # get the inputs; data is a list of [inputs, labels]\n",
    "        inputs, labels = d\n",
    "        labels = labels.type(torch.LongTensor)\n",
    "\n",
    "        # zero the parameter gradients\n",
    "        optimizer.zero_grad()\n",
    "\n",
    "        # forward + backward + optimize\n",
    "        outputs = model(inputs.float())\n",
    "\n",
    "        loss = criterion(outputs, labels)\n",
    "        loss.backward()\n",
    "        optimizer.step()\n",
    "\n",
    "        # print statistics\n",
    "        running_loss += loss.item()\n",
    "        if i % 2000 == 1999:    # print every 2000 mini-batches\n",
    "            print('[%d, %5d] loss: %.3f' %\n",
    "                  (epoch + 1, i + 1, running_loss / 2000))\n",
    "\n",
    "            losses.append(running_loss/2000)\n",
    "            running_loss = 0.0\n",
    "print('Finished Training')\n"
   ]
  },
  {
   "cell_type": "code",
   "execution_count": 11,
   "metadata": {},
   "outputs": [
    {
     "data": {
      "text/plain": [
       "[<matplotlib.lines.Line2D at 0x7f5141047390>]"
      ]
     },
     "execution_count": 11,
     "metadata": {},
     "output_type": "execute_result"
    },
    {
     "data": {
      "image/png": "[encoded data removed]",
      "text/plain": [
       "<Figure size 432x288 with 1 Axes>"
      ]
     },
     "metadata": {
      "needs_background": "light"
     },
     "output_type": "display_data"
    }
   ],
   "source": [
    "plt.plot(losses)"
   ]
  },
  {
   "cell_type": "code",
   "execution_count": 12,
   "metadata": {},
   "outputs": [
    {
     "name": "stdout",
     "output_type": "stream",
     "text": [
      "Accuracy of the network: 95 %\n",
      "Accuracy of the predicting rain: 62 %\n"
     ]
    }
   ],
   "source": [
    "correct = 0\n",
    "correct_rain = 0\n",
    "total = 0\n",
    "total_rain = 0\n",
    "for i, d in enumerate(val_data, 0):\n",
    "\n",
    "        inputs, labels = d\n",
    "        labels = labels.type(torch.LongTensor)\n",
    "\n",
    "        outputs = model(inputs.float())\n",
    "        # find the index with maximum energy\n",
    "        _, predicted = torch.max(outputs.data, 1)\n",
    "        total += labels.size(0)\n",
    "\n",
    "        correct += (predicted == labels).sum().item()\n",
    "\n",
    "        correct_rain += ((predicted ==1) & (labels == 1)).sum().item()\n",
    "        total_rain += (labels==1).sum().item()\n",
    "print('Accuracy of the network: %d %%' % (\n",
    "    100 * correct / total))  \n",
    "print('Accuracy of the predicting rain: %d %%' % (\n",
    "    100 * correct_rain / total_rain))  "
   ]
  },
  {
   "cell_type": "code",
   "execution_count": null,
   "metadata": {},
   "outputs": [],
   "source": []
  },
  {
   "cell_type": "code",
   "execution_count": null,
   "metadata": {},
   "outputs": [],
   "source": []
  },
  {
   "cell_type": "code",
   "execution_count": null,
   "metadata": {},
   "outputs": [],
   "source": []
  },
  {
   "cell_type": "code",
   "execution_count": null,
   "metadata": {},
   "outputs": [],
   "source": []
  },
  {
   "cell_type": "code",
   "execution_count": null,
   "metadata": {},
   "outputs": [],
   "source": []
  }
 ],
 "metadata": {
  "kernelspec": {
   "display_name": "Python 3",
   "language": "python",
   "name": "python3"
  },
  "language_info": {
   "codemirror_mode": {
    "name": "ipython",
    "version": 3
   },
   "file_extension": ".py",
   "mimetype": "text/x-python",
   "name": "python",
   "nbconvert_exporter": "python",
   "pygments_lexer": "ipython3",
   "version": "3.7.6"
  }
 },
 "nbformat": 4,
 "nbformat_minor": 2
}
