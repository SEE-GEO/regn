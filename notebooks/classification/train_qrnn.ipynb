{
 "cells": [
  {
   "cell_type": "markdown",
   "metadata": {},
   "source": [
    "# QRNN Training"
   ]
  },
  {
   "cell_type": "code",
   "execution_count": 1,
   "metadata": {},
   "outputs": [
    {
     "name": "stderr",
     "output_type": "stream",
     "text": [
      "Using TensorFlow backend.\n"
     ]
    }
   ],
   "source": [
    "%load_ext autoreload\n",
    "%autoreload 2\n",
    "%matplotlib inline\n",
    "from typhon.retrieval.qrnn import QRNN, set_backend\n",
    "set_backend(\"pytorch\")"
   ]
  },
  {
   "cell_type": "code",
   "execution_count": 2,
   "metadata": {},
   "outputs": [],
   "source": [
    "import ipywidgets as w\n",
    "import matplotlib.pyplot as plt\n",
    "import numpy as np"
   ]
  },
  {
   "cell_type": "markdown",
   "metadata": {},
   "source": [
    "## Define network"
   ]
  },
  {
   "cell_type": "code",
   "execution_count": 3,
   "metadata": {},
   "outputs": [],
   "source": [
    "quantiles = [0.01, 0.05, 0.15, 0.25, 0.35, 0.45, 0.5, 0.55, 0.65, 0.75, 0.85, 0.95, 0.99]\n",
    "n_layers = 6\n",
    "n_neurons = 128\n",
    "log_rain_rates = False\n",
    "qrnn = QRNN(28, quantiles=quantiles, model=(n_layers, n_neurons, 'relu'))"
   ]
  },
  {
   "cell_type": "markdown",
   "metadata": {},
   "source": [
    "## Train"
   ]
  },
  {
   "cell_type": "code",
   "execution_count": 4,
   "metadata": {},
   "outputs": [
    {
     "name": "stdout",
     "output_type": "stream",
     "text": [
      "Epoch 0 / 100: Training error: 0.045, Validation error: 0.046, Learning rate: 0.01000\n",
      "Epoch 1 / 100: Training error: 0.044, Validation error: 0.045, Learning rate: 0.01000\n",
      "Epoch 2 / 100: Training error: 0.044, Validation error: 0.045, Learning rate: 0.01000\n",
      "Epoch 3 / 100: Training error: 0.044, Validation error: 0.045, Learning rate: 0.01000\n",
      "Epoch 4 / 100: Training error: 0.043, Validation error: 0.045, Learning rate: 0.01000\n",
      "Epoch 5 / 100: Training error: 0.043, Validation error: 0.045, Learning rate: 0.01000\n",
      "Epoch 6 / 100: Training error: 0.043, Validation error: 0.045, Learning rate: 0.01000\n",
      "Epoch 7 / 100: Training error: 0.043, Validation error: 0.045, Learning rate: 0.01000\n",
      "Epoch 8 / 100: Training error: 0.043, Validation error: 0.045, Learning rate: 0.01000\n",
      "Epoch 9 / 100: Training error: 0.043, Validation error: 0.045, Learning rate: 0.01000\n",
      "Epoch 10 / 100: Training error: 0.043, Validation error: 0.045, Learning rate: 0.01000\n",
      "Epoch 11 / 100: Training error: 0.043, Validation error: 0.044, Learning rate: 0.01000\n",
      "Epoch 12 / 100: Training error: 0.043, Validation error: 0.044, Learning rate: 0.01000\n",
      "Epoch 13 / 100: Training error: 0.043, Validation error: 0.044, Learning rate: 0.01000\n",
      "Epoch 14 / 100: Training error: 0.043, Validation error: 0.044, Learning rate: 0.01000\n",
      "Epoch 15 / 100: Training error: 0.042, Validation error: 0.042, Learning rate: 0.01000\n",
      "Epoch 16 / 100: Training error: 0.039, Validation error: 0.037, Learning rate: 0.01000\n",
      "Epoch 17 / 100: Training error: 0.031, Validation error: 0.029, Learning rate: 0.01000\n",
      "Epoch 18 / 100: Training error: 0.027, Validation error: 0.026, Learning rate: 0.01000\n",
      "Epoch 19 / 100: Training error: 0.025, Validation error: 0.025, Learning rate: 0.01000\n",
      "Epoch 20 / 100: Training error: 0.024, Validation error: 0.024, Learning rate: 0.01000\n",
      "Epoch 21 / 100: Training error: 0.023, Validation error: 0.023, Learning rate: 0.01000\n",
      "Epoch 22 / 100: Training error: 0.022, Validation error: 0.023, Learning rate: 0.01000\n",
      "Epoch 23 / 100: Training error: 0.021, Validation error: 0.022, Learning rate: 0.01000\n",
      "Epoch 24 / 100: Training error: 0.021, Validation error: 0.022, Learning rate: 0.01000\n",
      "Epoch 25 / 100: Training error: 0.021, Validation error: 0.022, Learning rate: 0.01000\n",
      "Epoch 26 / 100: Training error: 0.020, Validation error: 0.021, Learning rate: 0.01000\n",
      "Epoch 27 / 100: Training error: 0.020, Validation error: 0.021, Learning rate: 0.01000\n",
      "Epoch 28 / 100: Training error: 0.020, Validation error: 0.021, Learning rate: 0.01000\n",
      "Epoch 29 / 100: Training error: 0.020, Validation error: 0.021, Learning rate: 0.01000\n",
      "Epoch 30 / 100: Training error: 0.020, Validation error: 0.021, Learning rate: 0.01000\n",
      "Epoch 31 / 100: Training error: 0.019, Validation error: 0.021, Learning rate: 0.01000\n",
      "Epoch 32 / 100: Training error: 0.019, Validation error: 0.021, Learning rate: 0.01000\n",
      "Epoch 33 / 100: Training error: 0.019, Validation error: 0.020, Learning rate: 0.01000\n",
      "Epoch 34 / 100: Training error: 0.019, Validation error: 0.020, Learning rate: 0.01000\n",
      "Epoch 35 / 100: Training error: 0.019, Validation error: 0.020, Learning rate: 0.01000\n",
      "Epoch 36 / 100: Training error: 0.019, Validation error: 0.020, Learning rate: 0.01000\n",
      "Epoch 37 / 100: Training error: 0.019, Validation error: 0.020, Learning rate: 0.01000\n",
      "Epoch 38 / 100: Training error: 0.019, Validation error: 0.020, Learning rate: 0.01000\n",
      "Epoch 39 / 100: Training error: 0.018, Validation error: 0.020, Learning rate: 0.01000\n",
      "Epoch 40 / 100: Training error: 0.018, Validation error: 0.019, Learning rate: 0.01000\n",
      "Epoch 41 / 100: Training error: 0.018, Validation error: 0.020, Learning rate: 0.01000\n",
      "Epoch 42 / 100: Training error: 0.018, Validation error: 0.020, Learning rate: 0.01000\n",
      "Epoch 43 / 100: Training error: 0.018, Validation error: 0.019, Learning rate: 0.01000\n",
      "Epoch 44 / 100: Training error: 0.018, Validation error: 0.019, Learning rate: 0.01000\n",
      "Epoch 45 / 100: Training error: 0.018, Validation error: 0.019, Learning rate: 0.01000\n",
      "Epoch 46 / 100: Training error: 0.018, Validation error: 0.019, Learning rate: 0.01000\n",
      "Epoch 47 / 100: Training error: 0.018, Validation error: 0.019, Learning rate: 0.01000\n",
      "Epoch 48 / 100: Training error: 0.018, Validation error: 0.019, Learning rate: 0.01000\n",
      "Epoch 49 / 100: Training error: 0.018, Validation error: 0.019, Learning rate: 0.01000\n",
      "Epoch 50 / 100: Training error: 0.018, Validation error: 0.019, Learning rate: 0.01000\n",
      "Epoch 51 / 100: Training error: 0.018, Validation error: 0.020, Learning rate: 0.01000\n",
      "Epoch 52 / 100: Training error: 0.017, Validation error: 0.019, Learning rate: 0.01000\n",
      "Epoch 53 / 100: Training error: 0.017, Validation error: 0.019, Learning rate: 0.01000\n",
      "Epoch 54 / 100: Training error: 0.017, Validation error: 0.018, Learning rate: 0.01000\n",
      "Epoch 55 / 100: Training error: 0.017, Validation error: 0.018, Learning rate: 0.01000\n",
      "Epoch 56 / 100: Training error: 0.017, Validation error: 0.019, Learning rate: 0.01000\n",
      "Epoch 57 / 100: Training error: 0.017, Validation error: 0.018, Learning rate: 0.01000\n",
      "Epoch 58 / 100: Training error: 0.017, Validation error: 0.019, Learning rate: 0.01000\n",
      "Epoch 59 / 100: Training error: 0.017, Validation error: 0.018, Learning rate: 0.01000\n",
      "Epoch 60 / 100: Training error: 0.017, Validation error: 0.018, Learning rate: 0.01000\n",
      "Epoch 61 / 100: Training error: 0.017, Validation error: 0.018, Learning rate: 0.01000\n",
      "Epoch 62 / 100: Training error: 0.017, Validation error: 0.018, Learning rate: 0.01000\n",
      "Epoch 63 / 100: Training error: 0.017, Validation error: 0.018, Learning rate: 0.01000\n",
      "Epoch 64 / 100: Training error: 0.017, Validation error: 0.018, Learning rate: 0.01000\n",
      "Epoch 65 / 100: Training error: 0.017, Validation error: 0.018, Learning rate: 0.01000\n",
      "Epoch 66 / 100: Training error: 0.017, Validation error: 0.019, Learning rate: 0.01000\n",
      "Epoch 67 / 100: Training error: 0.017, Validation error: 0.018, Learning rate: 0.01000\n",
      "Epoch 68 / 100: Training error: 0.017, Validation error: 0.018, Learning rate: 0.01000\n",
      "Epoch 69 / 100: Training error: 0.017, Validation error: 0.018, Learning rate: 0.01000\n",
      "Epoch 70 / 100: Training error: 0.016, Validation error: 0.018, Learning rate: 0.01000\n",
      "Epoch 71 / 100: Training error: 0.016, Validation error: 0.018, Learning rate: 0.01000\n",
      "Epoch 72 / 100: Training error: 0.016, Validation error: 0.018, Learning rate: 0.01000\n",
      "Epoch 73 / 100: Training error: 0.016, Validation error: 0.018, Learning rate: 0.01000\n",
      "Epoch 74 / 100: Training error: 0.016, Validation error: 0.018, Learning rate: 0.01000\n",
      "Epoch 75 / 100: Training error: 0.016, Validation error: 0.017, Learning rate: 0.01000\n",
      "Epoch 76 / 100: Training error: 0.016, Validation error: 0.018, Learning rate: 0.01000\n",
      "Epoch 77 / 100: Training error: 0.016, Validation error: 0.018, Learning rate: 0.01000\n",
      "Epoch 78 / 100: Training error: 0.016, Validation error: 0.018, Learning rate: 0.01000\n",
      "Epoch 79 / 100: Training error: 0.016, Validation error: 0.018, Learning rate: 0.01000\n",
      "Epoch 80 / 100: Training error: 0.016, Validation error: 0.018, Learning rate: 0.01000\n",
      "Epoch 81 / 100: Training error: 0.016, Validation error: 0.018, Learning rate: 0.01000\n",
      "Epoch 82 / 100: Training error: 0.016, Validation error: 0.017, Learning rate: 0.01000\n",
      "Epoch 83 / 100: Training error: 0.016, Validation error: 0.018, Learning rate: 0.01000\n",
      "Epoch 84 / 100: Training error: 0.016, Validation error: 0.017, Learning rate: 0.01000\n",
      "Epoch 85 / 100: Training error: 0.016, Validation error: 0.017, Learning rate: 0.01000\n",
      "Epoch 86 / 100: Training error: 0.016, Validation error: 0.017, Learning rate: 0.01000\n",
      "Epoch 87 / 100: Training error: 0.016, Validation error: 0.017, Learning rate: 0.01000\n",
      "Epoch 88 / 100: Training error: 0.016, Validation error: 0.017, Learning rate: 0.01000\n",
      "Epoch 89 / 100: Training error: 0.016, Validation error: 0.017, Learning rate: 0.01000\n",
      "Epoch 90 / 100: Training error: 0.016, Validation error: 0.017, Learning rate: 0.01000\n",
      "Epoch 91 / 100: Training error: 0.016, Validation error: 0.017, Learning rate: 0.01000\n",
      "Epoch 92 / 100: Training error: 0.016, Validation error: 0.017, Learning rate: 0.01000\n",
      "Epoch 93 / 100: Training error: 0.016, Validation error: 0.017, Learning rate: 0.01000\n"
     ]
    },
    {
     "name": "stdout",
     "output_type": "stream",
     "text": [
      "Epoch 94 / 100: Training error: 0.016, Validation error: 0.017, Learning rate: 0.01000\n",
      "Epoch 95 / 100: Training error: 0.016, Validation error: 0.017, Learning rate: 0.01000\n",
      "Epoch 96 / 100: Training error: 0.016, Validation error: 0.017, Learning rate: 0.01000\n",
      "Epoch 97 / 100: Training error: 0.016, Validation error: 0.017, Learning rate: 0.01000\n",
      "Epoch 98 / 100: Training error: 0.016, Validation error: 0.017, Learning rate: 0.01000\n",
      "Epoch 99 / 100: Training error: 0.016, Validation error: 0.017, Learning rate: 0.01000\n"
     ]
    }
   ],
   "source": [
    "from torch.utils.data import DataLoader, random_split\n",
    "from regn.data import GprofData\n",
    "training_data = GprofData(\"../../data/training_data_small.nc\",\n",
    "                          batch_size=32,\n",
    "                          log_rain_rates=log_rain_rates)\n",
    "training_data.store_normalization_data(\"normalization_data.nc\")\n",
    "validation_data = GprofData(\"../../data/validation_data_small.nc\",\n",
    "                            batch_size=32,\n",
    "                            normalization_data=\"normalization_data.nc\",\n",
    "                            log_rain_rates=log_rain_rates)\n",
    "results = qrnn.train(training_data, validation_data, maximum_epochs=100, initial_learning_rate=1e-2, gpu=True)"
   ]
  },
  {
   "cell_type": "markdown",
   "metadata": {},
   "source": [
    "## Results"
   ]
  },
  {
   "cell_type": "code",
   "execution_count": 5,
   "metadata": {},
   "outputs": [
    {
     "data": {
      "text/plain": [
       "Text(0.5, 0, 'Epoch')"
      ]
     },
     "execution_count": 5,
     "metadata": {},
     "output_type": "execute_result"
    },
    {
     "data": {
      "image/png": "[encoded data removed]",
      "text/plain": [
       "<Figure size 432x288 with 1 Axes>"
      ]
     },
     "metadata": {
      "needs_background": "light"
     },
     "output_type": "display_data"
    }
   ],
   "source": [
    "err_t = results[\"training_errors\"]\n",
    "err_v = results[\"validation_errors\"]\n",
    "plt.plot(err_t)\n",
    "plt.plot(err_v)\n",
    "plt.ylabel(\"Loss\")\n",
    "plt.xlabel(\"Epoch\")"
   ]
  },
  {
   "cell_type": "markdown",
   "metadata": {},
   "source": [
    "## Save network"
   ]
  },
  {
   "cell_type": "code",
   "execution_count": 6,
   "metadata": {},
   "outputs": [],
   "source": [
    "if log_rain_rates:\n",
    "    qrnn.save(f\"qrnn_{n_layers}_{n_neurons}_log.pt\")\n",
    "else:\n",
    "    qrnn.save(f\"qrnn_{n_layers}_{n_neurons}.pt\")"
   ]
  },
  {
   "cell_type": "code",
   "execution_count": 7,
   "metadata": {},
   "outputs": [
    {
     "data": {
      "text/plain": [
       "False"
      ]
     },
     "execution_count": 7,
     "metadata": {},
     "output_type": "execute_result"
    }
   ],
   "source": [
    "log_rain_rates"
   ]
  },
  {
   "cell_type": "code",
   "execution_count": 8,
   "metadata": {},
   "outputs": [
    {
     "name": "stderr",
     "output_type": "stream",
     "text": [
      "100%|██████████| 750/750 [00:00<00:00, 1260.62it/s]\n"
     ]
    }
   ],
   "source": [
    "x, y = qrnn.calibration(validation_data)"
   ]
  },
  {
   "cell_type": "code",
   "execution_count": 9,
   "metadata": {},
   "outputs": [
    {
     "data": {
      "image/png": "[encoded data removed]",
      "text/plain": [
       "<Figure size 432x288 with 1 Axes>"
      ]
     },
     "metadata": {
      "needs_background": "light"
     },
     "output_type": "display_data"
    }
   ],
   "source": [
    "f, ax = plt.subplots(1, 1)\n",
    "x0 = np.linspace(0, 1, 101)\n",
    "ax.plot(x0, x0, c=\"k\", ls=\":\")\n",
    "ax.plot(x, y)\n",
    "ax.set_xlabel(\"Predicted frequency\")\n",
    "ax.set_ylabel(\"Observed frequency\")\n",
    "ax.set_xlim([0, 1])\n",
    "ax.set_ylim([0, 1])\n",
    "ax.set_aspect(1.0)"
   ]
  }
 ],
 "metadata": {
  "kernelspec": {
   "display_name": "Python 3",
   "language": "python",
   "name": "python3"
  },
  "language_info": {
   "codemirror_mode": {
    "name": "ipython",
    "version": 3
   },
   "file_extension": ".py",
   "mimetype": "text/x-python",
   "name": "python",
   "nbconvert_exporter": "python",
   "pygments_lexer": "ipython3",
   "version": "3.7.4"
  }
 },
 "nbformat": 4,
 "nbformat_minor": 4
}
