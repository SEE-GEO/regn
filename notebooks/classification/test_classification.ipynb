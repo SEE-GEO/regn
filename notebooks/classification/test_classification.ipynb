{
 "cells": [
  {
   "cell_type": "markdown",
   "metadata": {},
   "source": [
    "# QRNN Classification\n",
    "\n",
    "This notebook uses the QRNN trained on GPM surface precipitation to classify raining and non-raining pixels."
   ]
  },
  {
   "cell_type": "code",
   "execution_count": 1,
   "metadata": {},
   "outputs": [],
   "source": [
    "%load_ext autoreload\n",
    "%autoreload 2\n",
    "%matplotlib inline\n",
    "import ipywidgets as w\n",
    "import matplotlib.pyplot as plt\n",
    "import numpy as np"
   ]
  },
  {
   "cell_type": "markdown",
   "metadata": {},
   "source": [
    "# Load QRNN and data"
   ]
  },
  {
   "cell_type": "code",
   "execution_count": 2,
   "metadata": {},
   "outputs": [
    {
     "name": "stderr",
     "output_type": "stream",
     "text": [
      "Using TensorFlow backend.\n"
     ]
    }
   ],
   "source": [
    "from typhon.retrieval.qrnn import QRNN\n",
    "qrnn = QRNN.load(\"qrnn_6_128.pt\")\n",
    "qrnn_log = QRNN.load(\"qrnn_6_128_log.pt\")"
   ]
  },
  {
   "cell_type": "code",
   "execution_count": 30,
   "metadata": {},
   "outputs": [],
   "source": [
    "from regn.data import GprofData\n",
    "test_data = GprofData(\"../../data/validation_data_small.nc\",\n",
    "                      batch_size=32,\n",
    "                      normalization_data=\"normalization_data.nc\")\n",
    "test_data_log = GprofData(\"../../data/validation_data_small.nc\",\n",
    "                          batch_size=32,\n",
    "                          normalization_data=\"normalization_data.nc\",\n",
    "                          log_rain_rates=True)\n",
    "test_data_binary = GprofData(\"../../data/validation_data_small.nc\",\n",
    "                             batch_size=32,\n",
    "                             normalization_data=\"normalization_data.nc\",\n",
    "                             rain_threshold=0.1)"
   ]
  },
  {
   "cell_type": "markdown",
   "metadata": {},
   "source": [
    "# Classify test data"
   ]
  },
  {
   "cell_type": "code",
   "execution_count": 4,
   "metadata": {},
   "outputs": [],
   "source": [
    "def evaluate(model, data, threshold=0.1):\n",
    "    \"\"\"\n",
    "    Compute rain probability on test set.\n",
    "    \n",
    "    Args:\n",
    "        model: QRNN to predict probabilities.\n",
    "        data: Pytorch dataset providing access to the test data.\n",
    "    Returns:\n",
    "        Tuple (p, y_true) of predicted probabilities p for the\n",
    "        observations to be above the given threshold and the corresponding\n",
    "        true binary label (raining or non-raining).\n",
    "    \"\"\"\n",
    "    p = []\n",
    "    y_true = []\n",
    "    y_pred = []\n",
    "    for i in range(len(data)):\n",
    "        x, y = data[i]\n",
    "        y_true.append(y)\n",
    "        y_pred.append(model.predict(x))\n",
    "        p.append(model.classify(x, threshold))\n",
    "    p = np.concatenate(p, axis=0)\n",
    "    y_true = np.concatenate(y_true, axis=0)\n",
    "    y_true = y_true > threshold\n",
    "    return p, y_true"
   ]
  },
  {
   "cell_type": "code",
   "execution_count": 5,
   "metadata": {},
   "outputs": [],
   "source": [
    "p, y_true = evaluate(qrnn, test_data)\n",
    "p_log, y_true_log = evaluate(qrnn_log, test_data_log, np.log10(0.1))"
   ]
  },
  {
   "cell_type": "code",
   "execution_count": 25,
   "metadata": {},
   "outputs": [],
   "source": [
    "def evaluate_nn(model, data):\n",
    "    \"\"\"\n",
    "    Compute rain probability on test set using standard neural network.\n",
    "    \n",
    "    Args:\n",
    "        model: QRNN to predict probabilities.\n",
    "        data: Pytorch dataset providing access to the binary test data.\n",
    "    Returns:\n",
    "        Tuple (p, y_true) of predicted probabilities p for the\n",
    "        observations to be above the given threshold and the corresponding\n",
    "        true binary label (raining or non-raining).\n",
    "    \"\"\"\n",
    "    p = []\n",
    "    y_true = []\n",
    "    for i in range(len(data)):\n",
    "        x, y = data[i]\n",
    "        x = x.detach()\n",
    "        y = y.detach()\n",
    "        y_true.append(y)\n",
    "        p.append(torch.sigmoid(model(x)).detach())\n",
    "    p = np.concatenate(p, axis=0)\n",
    "    y_true = np.concatenate(y_true, axis=0)\n",
    "    return p, y_true"
   ]
  },
  {
   "cell_type": "code",
   "execution_count": 33,
   "metadata": {},
   "outputs": [],
   "source": [
    "import torch\n",
    "nn = torch.load(\"nn_6_128.pt\")\n",
    "p_nn, y_true_nn = evaluate_nn(nn, test_data_binary)"
   ]
  },
  {
   "cell_type": "markdown",
   "metadata": {},
   "source": [
    "## Evaluate performance"
   ]
  },
  {
   "cell_type": "code",
   "execution_count": 34,
   "metadata": {},
   "outputs": [],
   "source": [
    "from regn.utils import compute_roc\n",
    "fpr, tpr = compute_roc(p.ravel(), y_true.ravel(), np.linspace(0, 1, 101))\n",
    "fpr_log, tpr_log = compute_roc(p_log.ravel(), y_true_log.ravel(), np.linspace(0, 1, 101))\n",
    "fpr_nn, tpr_nn = compute_roc(p_nn.ravel(), y_true_nn.ravel(), np.linspace(0, 1, 101))"
   ]
  },
  {
   "cell_type": "code",
   "execution_count": 38,
   "metadata": {},
   "outputs": [
    {
     "data": {
      "image/png": "[encoded data removed]",
      "text/plain": [
       "<Figure size 432x288 with 1 Axes>"
      ]
     },
     "metadata": {
      "needs_background": "light"
     },
     "output_type": "display_data"
    }
   ],
   "source": [
    "plt.plot(fpr_nn, tpr_nn, marker=\"o\", label=\"Binary classifier\")\n",
    "plt.plot(fpr, tpr, marker=\"o\", label=\"QRNN\")\n",
    "plt.plot(fpr_log, tpr_log, marker=\"o\", label=\"QRNN (log)\")\n",
    "x = np.linspace(0, 1, 1001)\n",
    "plt.plot(x, x, ls = \":\", c = \"k\")\n",
    "plt.title(\"ROC curve\")\n",
    "plt.xlabel(\"False positive rate\")\n",
    "plt.ylabel(\"True positive rate\")\n",
    "plt.xlim([0, 1])\n",
    "plt.ylim([0, 1])\n",
    "plt.legend()\n",
    "plt.savefig(\"roc_curve.pdf\", bbox_inches=\"tight\")"
   ]
  },
  {
   "cell_type": "code",
   "execution_count": null,
   "metadata": {},
   "outputs": [],
   "source": []
  }
 ],
 "metadata": {
  "kernelspec": {
   "display_name": "Python 3",
   "language": "python",
   "name": "python3"
  },
  "language_info": {
   "codemirror_mode": {
    "name": "ipython",
    "version": 3
   },
   "file_extension": ".py",
   "mimetype": "text/x-python",
   "name": "python",
   "nbconvert_exporter": "python",
   "pygments_lexer": "ipython3",
   "version": "3.7.4"
  }
 },
 "nbformat": 4,
 "nbformat_minor": 2
}
