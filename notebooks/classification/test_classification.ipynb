{
 "cells": [
  {
   "cell_type": "markdown",
   "metadata": {},
   "source": [
    "# QRNN Classification\n",
    "\n",
    "This notebook uses the QRNN trained on GPM surface precipitation to classify raining and non-raining pixels."
   ]
  },
  {
   "cell_type": "code",
   "execution_count": 1,
   "metadata": {},
   "outputs": [],
   "source": [
    "%load_ext autoreload\n",
    "%autoreload 2\n",
    "%matplotlib inline\n",
    "import ipywidgets as w\n",
    "import matplotlib.pyplot as plt\n",
    "import numpy as np"
   ]
  },
  {
   "cell_type": "markdown",
   "metadata": {},
   "source": [
    "# Load QRNN and data"
   ]
  },
  {
   "cell_type": "code",
   "execution_count": 2,
   "metadata": {},
   "outputs": [
    {
     "name": "stderr",
     "output_type": "stream",
     "text": [
      "Using TensorFlow backend.\n"
     ]
    }
   ],
   "source": [
    "from typhon.retrieval.qrnn import QRNN\n",
    "qrnn = QRNN.load(\"qrnn_6_128.pt\")\n",
    "qrnn_log = QRNN.load(\"qrnn_6_128_log.pt\")"
   ]
  },
  {
   "cell_type": "code",
   "execution_count": 3,
   "metadata": {},
   "outputs": [],
   "source": [
    "from regn.data import GprofData\n",
    "test_data = GprofData(\"../../data/validation_data_small.nc\",\n",
    "                      batch_size=32,\n",
    "                      normalization_data=\"normalization_data.nc\")\n",
    "test_data_log = GprofData(\"../../data/validation_data_small.nc\",\n",
    "                          batch_size=32,\n",
    "                          normalization_data=\"normalization_data.nc\",\n",
    "                          log_rain_rates=True)\n",
    "test_data_binary = GprofData(\"../../data/validation_data_small.nc\",\n",
    "                             batch_size=32,\n",
    "                             normalization_data=\"normalization_data.nc\",\n",
    "                             rain_threshold=0.1)"
   ]
  },
  {
   "cell_type": "markdown",
   "metadata": {},
   "source": [
    "# Classify test data"
   ]
  },
  {
   "cell_type": "code",
   "execution_count": 4,
   "metadata": {},
   "outputs": [],
   "source": [
    "def evaluate(model, data, threshold=0.1):\n",
    "    \"\"\"\n",
    "    Compute rain probability on test set.\n",
    "    \n",
    "    Args:\n",
    "        model: QRNN to predict probabilities.\n",
    "        data: Pytorch dataset providing access to the test data.\n",
    "    Returns:\n",
    "        Tuple (p, y_true) of predicted probabilities p for the\n",
    "        observations to be above the given threshold and the corresponding\n",
    "        true binary label (raining or non-raining).\n",
    "    \"\"\"\n",
    "    p = []\n",
    "    y_true = []\n",
    "    y_pred = []\n",
    "    for i in range(len(data)):\n",
    "        x, y = data[i]\n",
    "        y_true.append(y)\n",
    "        y_pred.append(model.predict(x))\n",
    "        p.append(model.classify(x, threshold))\n",
    "    p = np.concatenate(p, axis=0)\n",
    "    y_true = np.concatenate(y_true, axis=0)\n",
    "    y_true = y_true > threshold\n",
    "    return p, y_true"
   ]
  },
  {
   "cell_type": "code",
   "execution_count": 16,
   "metadata": {},
   "outputs": [],
   "source": [
    "p_qrnn, y_true_qrnn = evaluate(qrnn, test_data)\n",
    "p_qrnn_log, y_true_qrnn_log = evaluate(qrnn_log, test_data_log, np.log10(0.1))"
   ]
  },
  {
   "cell_type": "code",
   "execution_count": 17,
   "metadata": {},
   "outputs": [],
   "source": [
    "def evaluate_nn(model, data):\n",
    "    \"\"\"\n",
    "    Compute rain probability on test set using standard neural network.\n",
    "    \n",
    "    Args:\n",
    "        model: QRNN to predict probabilities.\n",
    "        data: Pytorch dataset providing access to the binary test data.\n",
    "    Returns:\n",
    "        Tuple (p, y_true) of predicted probabilities p for the\n",
    "        observations to be above the given threshold and the corresponding\n",
    "        true binary label (raining or non-raining).\n",
    "    \"\"\"\n",
    "    p = []\n",
    "    y_true = []\n",
    "    for i in range(len(data)):\n",
    "        x, y = data[i]\n",
    "        x = x.detach()\n",
    "        y = y.detach()\n",
    "        y_true.append(y)\n",
    "        p.append(torch.sigmoid(model(x)).detach())\n",
    "    p = np.concatenate(p, axis=0)\n",
    "    y_true = np.concatenate(y_true, axis=0)\n",
    "    return p, y_true"
   ]
  },
  {
   "cell_type": "code",
   "execution_count": 18,
   "metadata": {},
   "outputs": [],
   "source": [
    "import torch\n",
    "nn = torch.load(\"nn_6_128.pt\")\n",
    "p_nn, y_true_nn = evaluate_nn(nn, test_data_binary)"
   ]
  },
  {
   "cell_type": "markdown",
   "metadata": {},
   "source": [
    "## Evaluate performance"
   ]
  },
  {
   "cell_type": "code",
   "execution_count": 19,
   "metadata": {},
   "outputs": [],
   "source": [
    "from regn.utils import compute_roc\n",
    "fpr_qrnn, tpr_qrnn = compute_roc(p_qrnn.ravel(), y_true_qrnn.ravel(), np.linspace(0, 1, 101))\n",
    "fpr_qrnn_log, tpr_qrnn_log = compute_roc(p_qrnn_log.ravel(), y_true_qrnn_log.ravel(), np.linspace(0, 1, 101))\n",
    "fpr_nn, tpr_nn = compute_roc(p_nn.ravel(), y_true_nn.ravel(), np.linspace(0, 1, 101))"
   ]
  },
  {
   "cell_type": "code",
   "execution_count": 20,
   "metadata": {},
   "outputs": [
    {
     "data": {
      "image/png": "[encoded data removed]",
      "text/plain": [
       "<Figure size 432x288 with 1 Axes>"
      ]
     },
     "metadata": {
      "needs_background": "light"
     },
     "output_type": "display_data"
    }
   ],
   "source": [
    "plt.plot(fpr_nn, tpr_nn, marker=\"o\", label=\"Binary classifier\", ms=4)\n",
    "plt.plot(fpr, tpr, marker=\"o\", label=\"QRNN\", ms=4)\n",
    "plt.plot(fpr_log, tpr_log, marker=\"o\", label=\"QRNN (log)\", ms=4)\n",
    "x = np.linspace(0, 1, 1001)\n",
    "plt.plot(x, x, ls = \":\", c = \"k\")\n",
    "plt.title(\"ROC curve\")\n",
    "plt.xlabel(\"False positive rate\")\n",
    "plt.ylabel(\"True positive rate\")\n",
    "plt.xlim([0, 1])\n",
    "plt.ylim([0, 1])\n",
    "plt.legend()\n",
    "plt.savefig(\"roc_curve.pdf\", bbox_inches=\"tight\")"
   ]
  },
  {
   "cell_type": "markdown",
   "metadata": {},
   "source": [
    "## Negative log-likelihood\n",
    "\n",
    "Log likelihood is a proper scoring rule, so it quantifies how well the predicted distribution matches the observed one. For a Bernoulli distribution the negative log-likelihood is given by:\n",
    "\n",
    "\\begin{align}\n",
    " \\text{NLL} = -\\frac{1}{N}\\sum_i y_i \\log\\{p(x_i)\\}  + (1 - y_i) \\log \\{ p_i(x) \\}\n",
    " \\end{align}\n",
    " \n",
    "Scaling by $\\frac{1}{N}$ is not formally required but makes the returned value independent of the dataset size and the NLL score identical to binary cross entropy loss."
   ]
  },
  {
   "cell_type": "code",
   "execution_count": 61,
   "metadata": {
    "collapsed": true
   },
   "outputs": [],
   "source": [
    "def nll(p, y_true):\n",
    "    return -np.mean(y_true * np.log(p) + (1 - y_true) * np.log(np.maximum(1 - p, 1e-12)))"
   ]
  },
  {
   "cell_type": "code",
   "execution_count": 62,
   "metadata": {},
   "outputs": [],
   "source": [
    "nll_qrnn = nll(p_qrnn.ravel(), y_true_qrnn.ravel())\n",
    "nll_qrnn_log = nll(p_qrnn_log.ravel(), y_true_qrnn_log.ravel())\n",
    "nll_nn = nll(p_nn.ravel(), y_true_nn.ravel())"
   ]
  },
  {
   "cell_type": "markdown",
   "metadata": {},
   "source": [
    "## Brier score\n",
    "\n",
    "The brier score for a binary classification problem is given by\n",
    "\n",
    "\\begin{align}\n",
    " \\text{BS} = 0.5 \\frac{1}{N}\\sum_i (y_i - p(x_i))^2  + ((1 - y_i) - p_i(x))^2\n",
    " \\end{align}"
   ]
  },
  {
   "cell_type": "code",
   "execution_count": 66,
   "metadata": {},
   "outputs": [],
   "source": [
    "def brier_score(p, y_true):\n",
    "    return 0.5 * np.mean((y_true - p)**2 + ((1 - y_true) - (1 - p))**2)"
   ]
  },
  {
   "cell_type": "code",
   "execution_count": 67,
   "metadata": {},
   "outputs": [],
   "source": [
    "bs_qrnn = brier_score(p_qrnn.ravel(), y_true_qrnn.ravel())\n",
    "bs_qrnn_log = brier_score(p_qrnn_log.ravel(), y_true_qrnn_log.ravel())\n",
    "bs_nn = brier_score(p_nn.ravel(), y_true_nn.ravel())"
   ]
  },
  {
   "cell_type": "markdown",
   "metadata": {},
   "source": [
    "## Results\n",
    "\n",
    "The way the scores are defined here, lower value indicate better performance. Although the NN performs slightly better, the performance of the QRNNs are comparable."
   ]
  },
  {
   "cell_type": "code",
   "execution_count": 68,
   "metadata": {},
   "outputs": [
    {
     "data": {
      "text/html": [
       "<div>\n",
       "<style scoped>\n",
       "    .dataframe tbody tr th:only-of-type {\n",
       "        vertical-align: middle;\n",
       "    }\n",
       "\n",
       "    .dataframe tbody tr th {\n",
       "        vertical-align: top;\n",
       "    }\n",
       "\n",
       "    .dataframe thead th {\n",
       "        text-align: right;\n",
       "    }\n",
       "</style>\n",
       "<table border=\"1\" class=\"dataframe\">\n",
       "  <thead>\n",
       "    <tr style=\"text-align: right;\">\n",
       "      <th></th>\n",
       "      <th>NLL</th>\n",
       "      <th>Brier score</th>\n",
       "    </tr>\n",
       "  </thead>\n",
       "  <tbody>\n",
       "    <tr>\n",
       "      <th>QRNN</th>\n",
       "      <td>0.126352</td>\n",
       "      <td>0.034381</td>\n",
       "    </tr>\n",
       "    <tr>\n",
       "      <th>QRNN (log)</th>\n",
       "      <td>0.118225</td>\n",
       "      <td>0.032447</td>\n",
       "    </tr>\n",
       "    <tr>\n",
       "      <th>NN</th>\n",
       "      <td>0.112646</td>\n",
       "      <td>0.032409</td>\n",
       "    </tr>\n",
       "  </tbody>\n",
       "</table>\n",
       "</div>"
      ],
      "text/plain": [
       "                 NLL  Brier score\n",
       "QRNN        0.126352     0.034381\n",
       "QRNN (log)  0.118225     0.032447\n",
       "NN          0.112646     0.032409"
      ]
     },
     "execution_count": 68,
     "metadata": {},
     "output_type": "execute_result"
    }
   ],
   "source": [
    "import pandas as pd\n",
    "names = [\"QRNN\", \"QRNN (log)\", \"NN\"]\n",
    "data = {\"NLL\" : [nll_qrnn, nll_qrnn_log, nll_nn],\n",
    "        \"Brier score\" : [bs_qrnn, bs_qrnn_log, bs_nn]}\n",
    "pd.DataFrame(data, index=names)"
   ]
  }
 ],
 "metadata": {
  "kernelspec": {
   "display_name": "Python 3",
   "language": "python",
   "name": "python3"
  },
  "language_info": {
   "codemirror_mode": {
    "name": "ipython",
    "version": 3
   },
   "file_extension": ".py",
   "mimetype": "text/x-python",
   "name": "python",
   "nbconvert_exporter": "python",
   "pygments_lexer": "ipython3",
   "version": "3.7.4"
  }
 },
 "nbformat": 4,
 "nbformat_minor": 2
}
