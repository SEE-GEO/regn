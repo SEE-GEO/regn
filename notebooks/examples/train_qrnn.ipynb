{
 "cells": [
  {
   "cell_type": "markdown",
   "metadata": {},
   "source": [
    "# Training a QRNN\n",
    "\n",
    "This notebooke trains a simple QRNN on the small set of training data."
   ]
  },
  {
   "cell_type": "code",
   "execution_count": 1,
   "metadata": {},
   "outputs": [],
   "source": [
    "%load_ext autoreload\n",
    "%autoreload 2\n",
    "%matplotlib inline\n",
    "import ipywidgets as w\n",
    "import matplotlib.pyplot as plt\n",
    "import numpy as np"
   ]
  },
  {
   "cell_type": "markdown",
   "metadata": {},
   "source": [
    "## Defining the QRNN\n",
    "\n",
    "To create a `QRNN` we import the QRNN class from the `typhon` module. We define the quantiles that we want to predict and then instantiate the `QRNN` class providing as input arguments the number of input feature of the Gprof dataset (13 channels + 3 ancillary variables = 16), the quantiles and a tuple describing the architecture\n",
    "of the network. `(6, 256, \"relu\")` means that we want a fully-connected network with 6 hidden layers, each with 128 neurons and ReLU activation functions."
   ]
  },
  {
   "cell_type": "code",
   "execution_count": 2,
   "metadata": {},
   "outputs": [
    {
     "name": "stderr",
     "output_type": "stream",
     "text": [
      "Using TensorFlow backend.\n"
     ]
    }
   ],
   "source": [
    "from typhon.retrieval.qrnn import set_backend, QRNN\n",
    "set_backend(\"pytorch\")\n",
    "\n",
    "quantiles = np.array([0.05, 0.15, 0.25, 0.35, 0.45, 0.5, 0.55, 0.65, 0.75, 0.85, 0.95])\n",
    "qrnn = QRNN(28, quantiles, (6, 256, \"relu\"))"
   ]
  },
  {
   "cell_type": "markdown",
   "metadata": {},
   "source": [
    "## Loading the training data\n",
    "\n",
    "Next, we load the training data. The `GprofData` class in the `regn.data` module implements the pytorch dataset interface, which makes it easier to use our data with `pytorch` models. We create an object of the class providing the file containing the training data and specifying the desired batch size for training. Then we split the data into training and validation part. The validation part is not presented to the model but is simply used to monitor the model error.\n",
    "\n",
    "> **Note:** This assumes that you copied the training data from the `regn/data` directory on Dendrite to a\n",
    "`data` subfolder in your `regn` project directory."
   ]
  },
  {
   "cell_type": "code",
   "execution_count": 3,
   "metadata": {},
   "outputs": [],
   "source": [
    "from torch.utils.data import DataLoader, random_split\n",
    "from regn.data import GprofData\n",
    "data = GprofData(\"../../data/training_data_small.nc\",\n",
    "                 batch_size = 256)\n",
    "n = len(data)\n",
    "n_train = int(0.9 * n)\n",
    "n_val = n - n_train\n",
    "training_data, validation_data = random_split(data, [n_train, n_val])"
   ]
  },
  {
   "cell_type": "markdown",
   "metadata": {},
   "source": [
    "## Training the model"
   ]
  },
  {
   "cell_type": "code",
   "execution_count": 4,
   "metadata": {
    "scrolled": true
   },
   "outputs": [
    {
     "name": "stdout",
     "output_type": "stream",
     "text": [
      "Epoch 0 / 50: Training error: 0.046, Validation error: 0.041, Learning rate: 0.01000\n",
      "Epoch 1 / 50: Training error: 0.030, Validation error: 0.024, Learning rate: 0.01000\n",
      "Epoch 2 / 50: Training error: 0.024, Validation error: 0.022, Learning rate: 0.01000\n",
      "Epoch 3 / 50: Training error: 0.023, Validation error: 0.021, Learning rate: 0.01000\n",
      "Epoch 4 / 50: Training error: 0.022, Validation error: 0.019, Learning rate: 0.01000\n",
      "Epoch 5 / 50: Training error: 0.021, Validation error: 0.019, Learning rate: 0.01000\n",
      "Epoch 6 / 50: Training error: 0.021, Validation error: 0.023, Learning rate: 0.01000\n",
      "Epoch 7 / 50: Training error: 0.021, Validation error: 0.018, Learning rate: 0.01000\n",
      "Epoch 8 / 50: Training error: 0.020, Validation error: 0.019, Learning rate: 0.01000\n",
      "Epoch 9 / 50: Training error: 0.021, Validation error: 0.020, Learning rate: 0.01000\n",
      "Epoch 10 / 50: Training error: 0.020, Validation error: 0.020, Learning rate: 0.01000\n",
      "Epoch 11 / 50: Training error: 0.020, Validation error: 0.020, Learning rate: 0.01000\n",
      "Epoch 12 / 50: Training error: 0.020, Validation error: 0.020, Learning rate: 0.01000\n",
      "Epoch 13 / 50: Training error: 0.020, Validation error: 0.020, Learning rate: 0.01000\n",
      "Epoch 14 / 50: Training error: 0.019, Validation error: 0.019, Learning rate: 0.00500\n",
      "Epoch 15 / 50: Training error: 0.019, Validation error: 0.019, Learning rate: 0.00500\n",
      "Epoch 16 / 50: Training error: 0.019, Validation error: 0.021, Learning rate: 0.00500\n",
      "Epoch 17 / 50: Training error: 0.019, Validation error: 0.019, Learning rate: 0.00500\n",
      "Epoch 18 / 50: Training error: 0.018, Validation error: 0.018, Learning rate: 0.00500\n",
      "Epoch 19 / 50: Training error: 0.019, Validation error: 0.020, Learning rate: 0.00500\n",
      "Epoch 20 / 50: Training error: 0.018, Validation error: 0.018, Learning rate: 0.00250\n",
      "Epoch 21 / 50: Training error: 0.018, Validation error: 0.018, Learning rate: 0.00250\n",
      "Epoch 22 / 50: Training error: 0.019, Validation error: 0.017, Learning rate: 0.00250\n",
      "Epoch 23 / 50: Training error: 0.017, Validation error: 0.017, Learning rate: 0.00250\n",
      "Epoch 24 / 50: Training error: 0.019, Validation error: 0.016, Learning rate: 0.00250\n",
      "Epoch 25 / 50: Training error: 0.017, Validation error: 0.018, Learning rate: 0.00250\n",
      "Epoch 26 / 50: Training error: 0.018, Validation error: 0.020, Learning rate: 0.00250\n",
      "Epoch 27 / 50: Training error: 0.017, Validation error: 0.020, Learning rate: 0.00250\n",
      "Epoch 28 / 50: Training error: 0.018, Validation error: 0.018, Learning rate: 0.00250\n",
      "Epoch 29 / 50: Training error: 0.018, Validation error: 0.017, Learning rate: 0.00250\n",
      "Epoch 30 / 50: Training error: 0.018, Validation error: 0.017, Learning rate: 0.00250\n",
      "Epoch 31 / 50: Training error: 0.017, Validation error: 0.017, Learning rate: 0.00125\n",
      "Epoch 32 / 50: Training error: 0.018, Validation error: 0.019, Learning rate: 0.00125\n",
      "Epoch 33 / 50: Training error: 0.017, Validation error: 0.016, Learning rate: 0.00125\n",
      "Epoch 34 / 50: Training error: 0.017, Validation error: 0.017, Learning rate: 0.00125\n",
      "Epoch 35 / 50: Training error: 0.018, Validation error: 0.016, Learning rate: 0.00125\n",
      "Epoch 36 / 50: Training error: 0.017, Validation error: 0.016, Learning rate: 0.00125\n",
      "Epoch 37 / 50: Training error: 0.017, Validation error: 0.017, Learning rate: 0.00125\n",
      "Epoch 38 / 50: Training error: 0.017, Validation error: 0.017, Learning rate: 0.00125\n",
      "Epoch 39 / 50: Training error: 0.018, Validation error: 0.017, Learning rate: 0.00125\n",
      "Epoch 40 / 50: Training error: 0.017, Validation error: 0.016, Learning rate: 0.00063\n",
      "Epoch 41 / 50: Training error: 0.018, Validation error: 0.015, Learning rate: 0.00063\n",
      "Epoch 42 / 50: Training error: 0.017, Validation error: 0.017, Learning rate: 0.00063\n",
      "Epoch 43 / 50: Training error: 0.017, Validation error: 0.018, Learning rate: 0.00063\n",
      "Epoch 44 / 50: Training error: 0.017, Validation error: 0.016, Learning rate: 0.00063\n",
      "Epoch 45 / 50: Training error: 0.017, Validation error: 0.017, Learning rate: 0.00063\n",
      "Epoch 46 / 50: Training error: 0.017, Validation error: 0.017, Learning rate: 0.00063\n",
      "Epoch 47 / 50: Training error: 0.017, Validation error: 0.016, Learning rate: 0.00063\n",
      "Epoch 48 / 50: Training error: 0.017, Validation error: 0.016, Learning rate: 0.00031\n",
      "Epoch 49 / 50: Training error: 0.017, Validation error: 0.017, Learning rate: 0.00031\n",
      "Epoch 0 / 50: Training error: 0.017, Validation error: 0.017, Learning rate: 0.00100\n",
      "Epoch 1 / 50: Training error: 0.017, Validation error: 0.017, Learning rate: 0.00100\n",
      "Epoch 2 / 50: Training error: 0.017, Validation error: 0.018, Learning rate: 0.00100\n",
      "Epoch 3 / 50: Training error: 0.017, Validation error: 0.017, Learning rate: 0.00100\n",
      "Epoch 4 / 50: Training error: 0.017, Validation error: 0.016, Learning rate: 0.00100\n",
      "Epoch 5 / 50: Training error: 0.017, Validation error: 0.017, Learning rate: 0.00100\n",
      "Epoch 6 / 50: Training error: 0.017, Validation error: 0.017, Learning rate: 0.00100\n",
      "Epoch 7 / 50: Training error: 0.017, Validation error: 0.015, Learning rate: 0.00100\n",
      "Epoch 8 / 50: Training error: 0.017, Validation error: 0.017, Learning rate: 0.00100\n",
      "Epoch 9 / 50: Training error: 0.017, Validation error: 0.016, Learning rate: 0.00100\n",
      "Epoch 10 / 50: Training error: 0.017, Validation error: 0.017, Learning rate: 0.00100\n",
      "Epoch 11 / 50: Training error: 0.017, Validation error: 0.018, Learning rate: 0.00100\n",
      "Epoch 12 / 50: Training error: 0.017, Validation error: 0.018, Learning rate: 0.00100\n",
      "Epoch 13 / 50: Training error: 0.017, Validation error: 0.017, Learning rate: 0.00100\n",
      "Epoch 14 / 50: Training error: 0.016, Validation error: 0.016, Learning rate: 0.00050\n",
      "Epoch 15 / 50: Training error: 0.017, Validation error: 0.017, Learning rate: 0.00050\n",
      "Epoch 16 / 50: Training error: 0.017, Validation error: 0.017, Learning rate: 0.00050\n",
      "Epoch 17 / 50: Training error: 0.016, Validation error: 0.018, Learning rate: 0.00050\n",
      "Epoch 18 / 50: Training error: 0.017, Validation error: 0.017, Learning rate: 0.00050\n",
      "Epoch 19 / 50: Training error: 0.016, Validation error: 0.019, Learning rate: 0.00050\n",
      "Epoch 20 / 50: Training error: 0.017, Validation error: 0.016, Learning rate: 0.00025\n",
      "Epoch 21 / 50: Training error: 0.017, Validation error: 0.016, Learning rate: 0.00025\n",
      "Epoch 22 / 50: Training error: 0.017, Validation error: 0.016, Learning rate: 0.00025\n",
      "Epoch 23 / 50: Training error: 0.016, Validation error: 0.018, Learning rate: 0.00025\n",
      "Epoch 24 / 50: Training error: 0.017, Validation error: 0.016, Learning rate: 0.00025\n",
      "Epoch 25 / 50: Training error: 0.017, Validation error: 0.017, Learning rate: 0.00025\n",
      "Epoch 26 / 50: Training error: 0.017, Validation error: 0.016, Learning rate: 0.00013\n",
      "Epoch 27 / 50: Training error: 0.017, Validation error: 0.017, Learning rate: 0.00013\n",
      "Epoch 28 / 50: Training error: 0.017, Validation error: 0.017, Learning rate: 0.00013\n",
      "Epoch 29 / 50: Training error: 0.017, Validation error: 0.017, Learning rate: 0.00013\n",
      "Epoch 30 / 50: Training error: 0.017, Validation error: 0.016, Learning rate: 0.00013\n",
      "Epoch 31 / 50: Training error: 0.017, Validation error: 0.017, Learning rate: 0.00013\n",
      "Epoch 32 / 50: Training error: 0.017, Validation error: 0.018, Learning rate: 0.00006\n",
      "Epoch 33 / 50: Training error: 0.016, Validation error: 0.016, Learning rate: 0.00006\n",
      "Epoch 34 / 50: Training error: 0.017, Validation error: 0.018, Learning rate: 0.00006\n",
      "Epoch 35 / 50: Training error: 0.017, Validation error: 0.017, Learning rate: 0.00006\n",
      "Epoch 36 / 50: Training error: 0.017, Validation error: 0.017, Learning rate: 0.00006\n",
      "Epoch 37 / 50: Training error: 0.017, Validation error: 0.016, Learning rate: 0.00006\n",
      "Epoch 38 / 50: Training error: 0.017, Validation error: 0.016, Learning rate: 0.00003\n",
      "Epoch 39 / 50: Training error: 0.017, Validation error: 0.017, Learning rate: 0.00003\n",
      "Epoch 40 / 50: Training error: 0.017, Validation error: 0.017, Learning rate: 0.00003\n",
      "Epoch 41 / 50: Training error: 0.017, Validation error: 0.017, Learning rate: 0.00003\n",
      "Epoch 42 / 50: Training error: 0.017, Validation error: 0.016, Learning rate: 0.00003\n",
      "Epoch 43 / 50: Training error: 0.017, Validation error: 0.018, Learning rate: 0.00003\n",
      "Epoch 44 / 50: Training error: 0.016, Validation error: 0.018, Learning rate: 0.00002\n"
     ]
    },
    {
     "name": "stdout",
     "output_type": "stream",
     "text": [
      "Epoch 45 / 50: Training error: 0.017, Validation error: 0.017, Learning rate: 0.00002\n",
      "Epoch 46 / 50: Training error: 0.017, Validation error: 0.016, Learning rate: 0.00002\n",
      "Epoch 47 / 50: Training error: 0.017, Validation error: 0.017, Learning rate: 0.00002\n",
      "Epoch 48 / 50: Training error: 0.017, Validation error: 0.016, Learning rate: 0.00002\n",
      "Epoch 49 / 50: Training error: 0.017, Validation error: 0.016, Learning rate: 0.00002\n"
     ]
    },
    {
     "data": {
      "text/plain": [
       "{'training_errors': [0.04581076202846997,\n",
       "  0.030095393922146375,\n",
       "  0.023828532621012748,\n",
       "  0.0227529315533838,\n",
       "  0.021575220505631452,\n",
       "  0.021219859427042506,\n",
       "  0.02109210554988602,\n",
       "  0.02062102191880144,\n",
       "  0.02044905116949398,\n",
       "  0.020535349146974784,\n",
       "  0.020418526081636818,\n",
       "  0.019633236370544444,\n",
       "  0.01980566894803364,\n",
       "  0.020356762823690703,\n",
       "  0.01874296696823057,\n",
       "  0.018631576181196416,\n",
       "  0.018707079966846216,\n",
       "  0.018742437872549034,\n",
       "  0.018436479907029787,\n",
       "  0.018806347851893186,\n",
       "  0.01788387492609521,\n",
       "  0.017809857315224435,\n",
       "  0.018706380922833943,\n",
       "  0.017432589947690702,\n",
       "  0.018542291300354508,\n",
       "  0.01739551646483911,\n",
       "  0.01816703751599332,\n",
       "  0.017330005329085497,\n",
       "  0.0177074014498676,\n",
       "  0.017543392251707143,\n",
       "  0.017896125968629578,\n",
       "  0.017480795130318215,\n",
       "  0.017654847586946982,\n",
       "  0.017019932724216633,\n",
       "  0.017311902520842515,\n",
       "  0.01775328482308232,\n",
       "  0.017148242314421646,\n",
       "  0.017246782571194812,\n",
       "  0.017169976304494985,\n",
       "  0.017642575011982978,\n",
       "  0.01692833147171113,\n",
       "  0.017507537761870938,\n",
       "  0.01709533900920268,\n",
       "  0.01702544764271593,\n",
       "  0.017154407134145365,\n",
       "  0.016970749365518224,\n",
       "  0.016995399321538505,\n",
       "  0.017167429860916225,\n",
       "  0.01690262953146688,\n",
       "  0.017196410745466212,\n",
       "  0.016974056996656835,\n",
       "  0.016887560124752354,\n",
       "  0.01664102957248352,\n",
       "  0.01672829339607946,\n",
       "  0.0168029782181891,\n",
       "  0.017157930854355564,\n",
       "  0.01676540265220578,\n",
       "  0.01715608330795894,\n",
       "  0.016675140429707663,\n",
       "  0.016757862309312768,\n",
       "  0.0171837256445239,\n",
       "  0.016529624288280805,\n",
       "  0.016746880973664086,\n",
       "  0.017076095858555254,\n",
       "  0.01631973289574186,\n",
       "  0.016840224120942122,\n",
       "  0.017046248028474348,\n",
       "  0.016484079167230038,\n",
       "  0.01690259363988901,\n",
       "  0.016479696178187928,\n",
       "  0.016972348100698746,\n",
       "  0.01689668651628266,\n",
       "  0.017276978963012765,\n",
       "  0.016433811037557887,\n",
       "  0.01664639573233823,\n",
       "  0.017188310920604848,\n",
       "  0.01673297971101092,\n",
       "  0.016733101477661917,\n",
       "  0.016845060512004,\n",
       "  0.017115854181617766,\n",
       "  0.01674500244065515,\n",
       "  0.016533422228871837,\n",
       "  0.0171797100916035,\n",
       "  0.016416147242191138,\n",
       "  0.016928405385162378,\n",
       "  0.016784273444565834,\n",
       "  0.01668958410889179,\n",
       "  0.017084079027293367,\n",
       "  0.016853096075607716,\n",
       "  0.016765302371418288,\n",
       "  0.016730661235900748,\n",
       "  0.016649031172598805,\n",
       "  0.016905927883360435,\n",
       "  0.017283266587686297,\n",
       "  0.016352447908925448,\n",
       "  0.01677478355154194,\n",
       "  0.016591761614036585,\n",
       "  0.017242997888526,\n",
       "  0.017051630754124473,\n",
       "  0.016600329741449642],\n",
       " 'validation_errors': [0.040817497771293405,\n",
       "  0.023880088146054936,\n",
       "  0.02236924898780642,\n",
       "  0.020518620828947714,\n",
       "  0.01859239535406232,\n",
       "  0.0186806432226853,\n",
       "  0.022718125526162404,\n",
       "  0.018008385574625384,\n",
       "  0.01925944668736549,\n",
       "  0.019579505191124495,\n",
       "  0.01975088505705278,\n",
       "  0.019559860327130845,\n",
       "  0.020455548498449067,\n",
       "  0.01951879414639646,\n",
       "  0.01917848320707919,\n",
       "  0.01936823252828852,\n",
       "  0.020700805185873423,\n",
       "  0.01871641837210665,\n",
       "  0.01847990809173714,\n",
       "  0.019529027334835018,\n",
       "  0.01755841002769528,\n",
       "  0.017615618762530146,\n",
       "  0.017233931774934454,\n",
       "  0.016846830761360544,\n",
       "  0.016049760476415677,\n",
       "  0.017622755423578763,\n",
       "  0.019778187495596226,\n",
       "  0.020382111546613516,\n",
       "  0.017983780351407345,\n",
       "  0.01673786967782484,\n",
       "  0.017438133757921956,\n",
       "  0.016540802290452825,\n",
       "  0.018971877949943226,\n",
       "  0.01576368276014804,\n",
       "  0.017144705724692153,\n",
       "  0.01636219559417617,\n",
       "  0.016447506544570768,\n",
       "  0.017363070979744436,\n",
       "  0.017007766145041153,\n",
       "  0.01687296341368628,\n",
       "  0.015857508875459673,\n",
       "  0.015050559098111285,\n",
       "  0.01702087323346566,\n",
       "  0.01819610831538035,\n",
       "  0.016344384733407248,\n",
       "  0.017218891193249052,\n",
       "  0.017059793921127435,\n",
       "  0.01579938471812995,\n",
       "  0.015969225179193722,\n",
       "  0.016696736190257775,\n",
       "  0.016772858606981893,\n",
       "  0.01737345185791773,\n",
       "  0.017656376029575063,\n",
       "  0.01675125894947879,\n",
       "  0.015682352406363332,\n",
       "  0.017197548167689914,\n",
       "  0.01653268398912323,\n",
       "  0.015004872344434261,\n",
       "  0.01662219278589492,\n",
       "  0.015574592011680285,\n",
       "  0.01695351528694793,\n",
       "  0.01831350344676344,\n",
       "  0.018180694476130507,\n",
       "  0.017128645438670872,\n",
       "  0.016163115607454412,\n",
       "  0.017472406297231152,\n",
       "  0.017328645136477725,\n",
       "  0.018197102686240068,\n",
       "  0.01722856765357597,\n",
       "  0.0190935714748658,\n",
       "  0.015822615880038467,\n",
       "  0.01617665308332371,\n",
       "  0.016413418497259337,\n",
       "  0.017815373454903884,\n",
       "  0.016275891962821684,\n",
       "  0.016915554774083918,\n",
       "  0.01640182158218757,\n",
       "  0.016712708192156447,\n",
       "  0.016950342991960146,\n",
       "  0.017034456911196393,\n",
       "  0.01583769630956193,\n",
       "  0.016672770992191808,\n",
       "  0.018405114612241667,\n",
       "  0.01617981907686279,\n",
       "  0.017975065293872067,\n",
       "  0.01666443316911858,\n",
       "  0.017004117399694457,\n",
       "  0.01589157211879689,\n",
       "  0.016404270066789562,\n",
       "  0.017451686277655105,\n",
       "  0.016747009914158093,\n",
       "  0.016793611992691315,\n",
       "  0.01576411365080745,\n",
       "  0.017665230331101244,\n",
       "  0.01777086543640302,\n",
       "  0.016913509897647366,\n",
       "  0.016414036204467616,\n",
       "  0.01679837455101792,\n",
       "  0.01570354240961493,\n",
       "  0.016301698562118314]}"
      ]
     },
     "execution_count": 4,
     "metadata": {},
     "output_type": "execute_result"
    }
   ],
   "source": [
    "qrnn.train(training_data, validation_data, maximum_epochs=50, initial_learning_rate=1e-2, momentum=0.99, gpu=True)\n",
    "qrnn.train(training_data, validation_data, maximum_epochs=50, initial_learning_rate=1e-3, momentum=0.0, gpu=True)"
   ]
  },
  {
   "cell_type": "markdown",
   "metadata": {},
   "source": [
    "## Finally, we save the model to reuse it later."
   ]
  },
  {
   "cell_type": "code",
   "execution_count": 5,
   "metadata": {},
   "outputs": [],
   "source": [
    "qrnn.save(\"../../models/qrnn_6_256_all_surfaces.nc\")"
   ]
  },
  {
   "cell_type": "markdown",
   "metadata": {},
   "source": [
    "## Evaluating the QRNN\n",
    "\n",
    "To ensure the training was successful, let's plot the calibration of the predicted confidence intervals."
   ]
  },
  {
   "cell_type": "code",
   "execution_count": 10,
   "metadata": {},
   "outputs": [
    {
     "name": "stderr",
     "output_type": "stream",
     "text": [
      "100%|██████████| 124/124 [00:00<00:00, 865.32it/s]\n"
     ]
    },
    {
     "data": {
      "text/plain": [
       "Text(0, 0.5, 'Observed frequency')"
      ]
     },
     "execution_count": 10,
     "metadata": {},
     "output_type": "execute_result"
    },
    {
     "data": {
      "image/png": "[encoded data removed]",
      "text/plain": [
       "<Figure size 432x288 with 1 Axes>"
      ]
     },
     "metadata": {
      "needs_background": "light"
     },
     "output_type": "display_data"
    }
   ],
   "source": [
    "x, y = qrnn.calibration(validation_data)\n",
    "f, ax = plt.subplots(1, 1)\n",
    "ax.plot(x, y, marker = \"o\")\n",
    "ax.plot(x, x, ls = \":\", c = \"k\")\n",
    "ax.set_xlim([0.1, 0.9])\n",
    "ax.set_ylim([0.1, 0.9])\n",
    "ax.set_aspect(1.0)\n",
    "ax.set_xlabel(\"Predicted frequency\")\n",
    "ax.set_ylabel(\"Observed frequency\")"
   ]
  },
  {
   "cell_type": "code",
   "execution_count": 11,
   "metadata": {},
   "outputs": [],
   "source": [
    "x, y = validation_data[0]\n",
    "cdf = qrnn.cdf(x)\n",
    "pdf = qrnn.pdf(x)\n",
    "samples = qrnn.sample_posterior(x, 10000)\n",
    "samples_gaussian = qrnn.sample_posterior_gaussian_fit(x, 10000)"
   ]
  },
  {
   "cell_type": "code",
   "execution_count": 17,
   "metadata": {},
   "outputs": [
    {
     "data": {
      "text/plain": [
       "<matplotlib.legend.Legend at 0x7f7d8007cdd0>"
      ]
     },
     "execution_count": 17,
     "metadata": {},
     "output_type": "execute_result"
    },
    {
     "data": {
      "image/png": "[encoded data removed]",
      "text/plain": [
       "<Figure size 720x288 with 2 Axes>"
      ]
     },
     "metadata": {
      "needs_background": "light"
     },
     "output_type": "display_data"
    }
   ],
   "source": [
    "i = np.random.randint(cdf[0].shape[0])\n",
    "f, axs = plt.subplots(1, 2, figsize=(10, 4))\n",
    "\n",
    "ax = axs[0]\n",
    "ax.plot(cdf[0][i, :], cdf[1])\n",
    "\n",
    "bins = np.linspace(pdf[0][i, 0], pdf[0][i, -1], 21)\n",
    "y, _ = np.histogram(samples[i, :], bins, density=True)\n",
    "y_gaussian, _ = np.histogram(samples_gaussian[i, :], bins, density=True)\n",
    "x = 0.5 * (bins[1:] + bins[:-1])\n",
    "\n",
    "ax = axs[1]\n",
    "ax.plot(pdf[0][i, :], pdf[1][i, :], label=\"PDF\")\n",
    "ax.plot(x, y, label=\"CDF sampling\")\n",
    "ax.plot(x, y_gaussian, label=\"Gaussian fit\")\n",
    "ax.legend()"
   ]
  },
  {
   "cell_type": "code",
   "execution_count": 9,
   "metadata": {},
   "outputs": [
    {
     "data": {
      "text/plain": [
       "array([0.00068664, 0.00207631, 0.00346597, 0.00485564, 0.0062453 ,\n",
       "       0.00763497, 0.00902463, 0.0104143 , 0.01180396, 0.01319363,\n",
       "       0.01458329, 0.01597295, 0.01736262, 0.01875228, 0.02014195,\n",
       "       0.02153161, 0.02292128, 0.02431094, 0.02570061, 0.02709027])"
      ]
     },
     "execution_count": 9,
     "metadata": {},
     "output_type": "execute_result"
    }
   ],
   "source": [
    "x"
   ]
  },
  {
   "cell_type": "code",
   "execution_count": null,
   "metadata": {},
   "outputs": [],
   "source": []
  }
 ],
 "metadata": {
  "kernelspec": {
   "display_name": "Python 3",
   "language": "python",
   "name": "python3"
  },
  "language_info": {
   "codemirror_mode": {
    "name": "ipython",
    "version": 3
   },
   "file_extension": ".py",
   "mimetype": "text/x-python",
   "name": "python",
   "nbconvert_exporter": "python",
   "pygments_lexer": "ipython3",
   "version": "3.7.4"
  }
 },
 "nbformat": 4,
 "nbformat_minor": 2
}
